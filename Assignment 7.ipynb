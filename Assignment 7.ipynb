{
 "cells": [
  {
   "cell_type": "markdown",
   "id": "48d5f095-3745-448a-812f-acd8015b20ce",
   "metadata": {},
   "source": [
    "QUESTION 1-Create a function which will take a list as an argument and return the product of all the numbers\n",
    "after creating a flat list\n",
    "Use the below -given list as an argument for your function \n",
    "\n",
    "list =[1,2,3,4,[44,45,66,True],False,(34,56,78,89,34),{1,2,3,3,2,1},{1:34,\"key2\":[55,67,78,89],4:(45,22,61,34)},\n",
    "       [56,\"data science \"],\"machine learnind\"]\n",
    "       \n",
    "note-You must extract numeric keys and and value of the dictionary also."
   ]
  },
  {
   "cell_type": "markdown",
   "id": "c038ac1b-1b86-4c1a-8464-f6a829cf5ac4",
   "metadata": {},
   "source": [
    "ANS-"
   ]
  },
  {
   "cell_type": "code",
   "execution_count": 4,
   "id": "6e88057a-cd70-40e6-a208-43c77e7b60bd",
   "metadata": {
    "tags": []
   },
   "outputs": [],
   "source": [
    "l=[1,2,3,4,[44,45,66,True],False,(34,56,78,89,34),{1,2,3,3,2,1},{1:34,\"key2\":[55,67,78,89],4:(45,22,61,34)},\n",
    "       [56,\"data science \"],\"machine learning\"]\n",
    "def test(l) :\n",
    "    l1=[]\n",
    "    for i in l:\n",
    "        if type( i)==list :\n",
    "            for j in i :\n",
    "                l1.append(j)\n",
    "        elif type (i)==tuple :\n",
    "            for k in i :\n",
    "                l1.append(k)\n",
    "        elif type (i)==dict :\n",
    "            p=list(i.values())\n",
    "            for r in p :\n",
    "                if type(r)==list:\n",
    "                    for n in r:\n",
    "                        l1.append(n)\n",
    "                elif type (r)==tuple:\n",
    "                        for o in r :\n",
    "                            l1.append(o)\n",
    "                else :\n",
    "                    for s in i :\n",
    "                        l1.append(s)\n",
    "        elif type (i)==set :\n",
    "            for n in i:\n",
    "                l1.append(n)\n",
    "        else :\n",
    "            if type(i)==int or type(i)==bool or type (i)==str :\n",
    "                l1.append(i)\n",
    "    return l1\n",
    "\n",
    "    \n",
    "            \n",
    "        "
   ]
  },
  {
   "cell_type": "code",
   "execution_count": 5,
   "id": "2b81b768-d956-425c-83f8-426546abfe69",
   "metadata": {},
   "outputs": [],
   "source": [
    "l1=(test(l))"
   ]
  },
  {
   "cell_type": "code",
   "execution_count": 6,
   "id": "f109b1a8-629e-4ca9-b916-69d84776085b",
   "metadata": {},
   "outputs": [
    {
     "data": {
      "text/plain": [
       "[1,\n",
       " 2,\n",
       " 3,\n",
       " 4,\n",
       " 44,\n",
       " 45,\n",
       " 66,\n",
       " True,\n",
       " False,\n",
       " 34,\n",
       " 56,\n",
       " 78,\n",
       " 89,\n",
       " 34,\n",
       " 1,\n",
       " 2,\n",
       " 3,\n",
       " 1,\n",
       " 'key2',\n",
       " 4,\n",
       " 55,\n",
       " 67,\n",
       " 78,\n",
       " 89,\n",
       " 45,\n",
       " 22,\n",
       " 61,\n",
       " 34,\n",
       " 56,\n",
       " 'data science ',\n",
       " 'machine learning']"
      ]
     },
     "execution_count": 6,
     "metadata": {},
     "output_type": "execute_result"
    }
   ],
   "source": [
    "l1"
   ]
  },
  {
   "cell_type": "code",
   "execution_count": 10,
   "id": "d0659de8-2640-4d65-bcc1-0102a432d15f",
   "metadata": {},
   "outputs": [
    {
     "data": {
      "text/plain": [
       "[1,\n",
       " 2,\n",
       " 3,\n",
       " 4,\n",
       " 44,\n",
       " 45,\n",
       " 66,\n",
       " 34,\n",
       " 56,\n",
       " 78,\n",
       " 89,\n",
       " 34,\n",
       " 1,\n",
       " 2,\n",
       " 3,\n",
       " 1,\n",
       " 4,\n",
       " 55,\n",
       " 67,\n",
       " 78,\n",
       " 89,\n",
       " 45,\n",
       " 22,\n",
       " 61,\n",
       " 34,\n",
       " 56]"
      ]
     },
     "execution_count": 10,
     "metadata": {},
     "output_type": "execute_result"
    }
   ],
   "source": [
    "l2=[]\n",
    "for i in l1 :\n",
    "    if type(i)==int :\n",
    "        l2.append(i)\n",
    "l2\n"
   ]
  },
  {
   "cell_type": "code",
   "execution_count": 12,
   "id": "ed965e50-1f09-49fc-b7fb-5c5075552de9",
   "metadata": {},
   "outputs": [
    {
     "data": {
      "text/plain": [
       "99498413237657137191188692992000"
      ]
     },
     "execution_count": 12,
     "metadata": {},
     "output_type": "execute_result"
    }
   ],
   "source": [
    "from functools import reduce\n",
    "reduce(lambda x,y :x*y,l2)"
   ]
  },
  {
   "cell_type": "markdown",
   "id": "c9deaa49-102b-4bb6-a5ec-a712d4435ac4",
   "metadata": {},
   "source": [
    "QUESTION 2-Write a python program for encrypting a message send to you by your friend .the logic of encryption should be \n",
    "such that,for a the output should be z.for b the output should be y .for c,the output should be x respectively.also, the white space should be replaced \n",
    "with a dollar sign.keep the punctuation marks unchanged.\n",
    "input sentence: I want to become a Data scientist.\n",
    "encrypt the above input sentence using the program you just created.\n",
    "note :convert the given input sentence into lowercase before encrypting.the final output should be lowercase"
   ]
  },
  {
   "cell_type": "markdown",
   "id": "3cbba6dd-705e-4faa-93e8-0082cac9d733",
   "metadata": {},
   "source": [
    "ANS-"
   ]
  },
  {
   "cell_type": "code",
   "execution_count": 1,
   "id": "69f5d034-839f-4acf-b618-edae4ed864e2",
   "metadata": {},
   "outputs": [],
   "source": [
    "def encrypt_msg(msg) :\n",
    "    msg= msg.lower()\n",
    "    msg=msg.replace(' ','$')\n",
    "    mapping=str.maketrans('abcdefghijklmnopqrstuvwxyz','zyxwvutsrqponmlkjihgfedcba')\n",
    "    encrypted_msg =msg.translate(mapping)\n",
    "    return encrypted_msg\n",
    "    \n"
   ]
  },
  {
   "cell_type": "code",
   "execution_count": 2,
   "id": "9c533927-c300-4446-a165-1951bf96d406",
   "metadata": {},
   "outputs": [],
   "source": [
    "msg ='I want to become a Data scientist.'"
   ]
  },
  {
   "cell_type": "code",
   "execution_count": 3,
   "id": "ffcf62e5-a4c0-4620-bf87-351075e84769",
   "metadata": {},
   "outputs": [
    {
     "data": {
      "text/plain": [
       "'r$dzmg$gl$yvxlnv$z$wzgz$hxrvmgrhg.'"
      ]
     },
     "execution_count": 3,
     "metadata": {},
     "output_type": "execute_result"
    }
   ],
   "source": [
    "encrypt_msg(msg)"
   ]
  },
  {
   "cell_type": "code",
   "execution_count": null,
   "id": "f4b73cbb-1a90-4c47-a90f-e3c03e021404",
   "metadata": {},
   "outputs": [],
   "source": []
  }
 ],
 "metadata": {
  "kernelspec": {
   "display_name": "Python 3 (ipykernel)",
   "language": "python",
   "name": "python3"
  },
  "language_info": {
   "codemirror_mode": {
    "name": "ipython",
    "version": 3
   },
   "file_extension": ".py",
   "mimetype": "text/x-python",
   "name": "python",
   "nbconvert_exporter": "python",
   "pygments_lexer": "ipython3",
   "version": "3.10.8"
  }
 },
 "nbformat": 4,
 "nbformat_minor": 5
}
